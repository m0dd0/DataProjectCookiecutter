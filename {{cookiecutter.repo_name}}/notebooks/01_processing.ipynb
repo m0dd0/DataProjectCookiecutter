{
 "cells": [
  {
   "cell_type": "code",
   "execution_count": null,
   "metadata": {},
   "outputs": [],
   "source": [
    "%load_ext autoreload\n",
    "%autoreload 2\n",
    "\n",
    "from pathlib import Path\n",
    "\n",
    "from matplotlib import pyplot as plt\n",
    "\n",
    "from {{cookiecutter.project_name}}.dataloading import {{cookiecutter.dataset_name}}\n",
    "from {{cookiecutter.project_name}}.preprocessing import {{cookiecutter.dataset_name}}Preprocessor\n",
    "from {{cookiecutter.project_name}}.postprocessing import Postprocessor\n",
    "from {{cookiecutter.project_name}}.model import {{cookiecutter.model_name}}\n",
    "from {{cookiecutter.project_name}}.utils.processing import End2EndProcessor\n",
    "from {{cookiecutter.project_name}}.utils import visualization as vis \n",
    "from {{cookiecutter.project_name}}.utils.export import Exporter"
   ]
  },
  {
   "cell_type": "code",
   "execution_count": 2,
   "metadata": {},
   "outputs": [],
   "source": [
    "dataset_path = Path.cwd().parent / \"{{cookiecutter.project_name}}\" / \"data\" / {{cookiecutter.dataset_name}}\n",
    "dataset = {{cookiecutter.dataset_name}}(dataset_path, transform={{cookiecutter.dataset_name}}Preprocessor)\n",
    "\n",
    "sample = dataset[0]"
   ]
  },
  {
   "cell_type": "code",
   "execution_count": null,
   "metadata": {},
   "outputs": [],
   "source": [
    "model = {{cookiecutter.model_name}}.from_state_dict_path(\n",
    "    Path.cwd().parent / \"{{cookiecutter.project_name}}\" / \"checkpoints\" / \"default_weights.pt\"\n",
    ")"
   ]
  },
  {
   "cell_type": "code",
   "execution_count": null,
   "metadata": {},
   "outputs": [],
   "source": [
    "result = postprocessor(model(sample))"
   ]
  },
  {
   "cell_type": "code",
   "execution_count": null,
   "metadata": {},
   "outputs": [],
   "source": [
    "fig = plt.figure(figsize=(10, 10))\n",
    "\n",
    "vis.create_overview_fig(\n",
    "    fig=fig,\n",
    "    # sample = dataset.transform.intermediate_results[-1][\"initial_sample\"],\n",
    "    # ... more data here\n",
    ")\n",
    "\n",
    "plt.show()"
   ]
  }
 ],
 "metadata": {
  "kernelspec": {
   "display_name": "Python 3.8.10 64-bit",
   "language": "python",
   "name": "python3"
  },
  "language_info": {
   "codemirror_mode": {
    "name": "ipython",
    "version": 3
   },
   "file_extension": ".py",
   "mimetype": "text/x-python",
   "name": "python",
   "nbconvert_exporter": "python",
   "pygments_lexer": "ipython3",
   "version": "3.8.10"
  },
  "orig_nbformat": 4,
  "vscode": {
   "interpreter": {
    "hash": "916dbcbb3f70747c44a77c7bcd40155683ae19c65e1c03b4aa3499c5328201f1"
   }
  }
 },
 "nbformat": 4,
 "nbformat_minor": 2
}
