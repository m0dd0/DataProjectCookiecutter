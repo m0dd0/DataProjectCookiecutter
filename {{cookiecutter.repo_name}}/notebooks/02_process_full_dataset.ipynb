{
 "cells": [
  {
   "cell_type": "code",
   "execution_count": null,
   "metadata": {},
   "outputs": [],
   "source": [
    "from pathlib import Path\n",
    "\n",
    "from {{cookiecutter.project_name}}.utils.processing import process_{{cookiecutter.dataset_name}}"
   ]
  },
  {
   "cell_type": "code",
   "execution_count": null,
   "metadata": {},
   "outputs": [],
   "source": [
    "dataset_path = Path.cwd().parent / {{cookiecutter.project_name}} / \"data\" / \"raw\" / \"dataset_name\"\n",
    "config_path = Path.cwd().parent / {{cookiecutter.project_name}} / \"configs\" / \"default_e2e_inference.yaml\"\n",
    "export_path = Path.cwd().parent / {{cookiecutter.project_name}} / /\"data\" / \"results\" / \"dataset_name\""
   ]
  },
  {
   "cell_type": "code",
   "execution_count": null,
   "metadata": {},
   "outputs": [],
   "source": [
    "process_{{cookiecutter.dataset_name}}(dataset_path, config_path, export_path, batch_size=10)"
   ]
  }
 ],
 "metadata": {
  "kernelspec": {
   "display_name": "Python 3.10.9 ('alr')",
   "language": "python",
   "name": "python3"
  },
  "language_info": {
   "name": "python",
   "version": "3.10.9"
  },
  "orig_nbformat": 4,
  "vscode": {
   "interpreter": {
    "hash": "ef7e1541b8e7b6b5672ac838d3c045be09c9245709d40ce12336bbbdd1b51144"
   }
  }
 },
 "nbformat": 4,
 "nbformat_minor": 2
}
