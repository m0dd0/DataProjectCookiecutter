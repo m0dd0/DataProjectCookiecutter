{
 "cells": [
  {
   "cell_type": "code",
   "execution_count": null,
   "metadata": {},
   "outputs": [],
   "source": [
    "from pathlib import Path\n",
    "\n",
    "from {{cookiecutter.project_name}}.dataloading.datasets import {{cookiecutter.dataset_name}}\n",
    "from {{cookiecutter.project_name}}.utils.processing import process_{{cookiecutter.dataset_name}}"
   ]
  }
 ],
 "metadata": {
  "kernelspec": {
   "display_name": "Python 3.10.9 ('alr')",
   "language": "python",
   "name": "python3"
  },
  "language_info": {
   "name": "python",
   "version": "3.10.9"
  },
  "orig_nbformat": 4,
  "vscode": {
   "interpreter": {
    "hash": "ef7e1541b8e7b6b5672ac838d3c045be09c9245709d40ce12336bbbdd1b51144"
   }
  }
 },
 "nbformat": 4,
 "nbformat_minor": 2
}
