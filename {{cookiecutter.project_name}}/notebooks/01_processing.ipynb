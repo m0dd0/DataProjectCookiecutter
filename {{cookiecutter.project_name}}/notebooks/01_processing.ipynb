{
 "cells": [
  {
   "cell_type": "code",
   "execution_count": null,
   "metadata": {},
   "outputs": [],
   "source": [
    "%load_ext autoreload\n",
    "%autoreload 2\n",
    "\n",
    "from pathlib import Path\n",
    "\n",
    "from matplotlib import pyplot as plt\n",
    "\n",
    "from {{cookiecutter.project_name}}.dataloading import {{cookiecutter.dataset_name}}\n",
    "from {{cookiecutter.project_name}}.preprocessing import {{cookiecutter.dataset_name}}Preprocessor\n",
    "from {{cookiecutter.project_name}}.postprocessing import Postprocessor\n",
    "from {{cookiecutter.project_name}}.model import {{cookiecutter.model_name}}\n",
    "from {{cookiecutter.project_name}}.utils.processing import End2EndProcessor\n",
    "from {{cookiecutter.project_name}}.utils import visualization as vis \n",
    "from {{cookiecutter.project_name}}.utils.export import Exporter"
   ]
  },
  {
   "cell_type": "code",
   "execution_count": 2,
   "metadata": {},
   "outputs": [],
   "source": [
    "dataset_path = Path.cwd().parent / \"{{cookiecutter.project_name}}\" / \"data\" / {{cookiecutter.dataset_name}}\n",
    "dataset = {{cookiecutter.dataset_name}}(dataset_path)\n",
    "sample = dataset[745]"
   ]
  },
  {
   "cell_type": "code",
   "execution_count": null,
   "metadata": {},
   "outputs": [],
   "source": [
    "model_path = Path.cwd().parent / \"{{cookiecutter.project_name}}\" / \"checkpoints\" / \"default_weights.pt\""
   ]
  },
  {
   "cell_type": "code",
   "execution_count": 3,
   "metadata": {},
   "outputs": [],
   "source": [
    "e2e_processor = End2EndProcessor(\n",
    "    preprocessor = {{cookiecutter.dataset_name}}Preprocessor(),\n",
    "    model = {{cookiecutter.model_name}}.from_state_dict_path(model_path),\n",
    "    postprocessor = Postprocessor(),\n",
    ")"
   ]
  },
  {
   "cell_type": "code",
   "execution_count": null,
   "metadata": {},
   "outputs": [],
   "source": [
    "process_data = e2e_processor(sample)\n",
    "print(list(process_data.keys()))\n",
    "print(list(process_data[\"preprocessor\"].keys()))\n",
    "print(list(process_data[\"postprocessor\"].keys()))"
   ]
  },
  {
   "cell_type": "code",
   "execution_count": null,
   "metadata": {},
   "outputs": [],
   "source": [
    "fig = plt.figure(figsize=(10, 10))\n",
    "\n",
    "vis.create_overview_fig(\n",
    "    fig=fig,\n",
    "    # sample=process_data[\"sample\"],\n",
    "    # ... more data here\n",
    ")"
   ]
  },
  {
   "cell_type": "code",
   "execution_count": 6,
   "metadata": {},
   "outputs": [],
   "source": [
    "export_data = {\n",
    "    \"...\": process_data[\"preprocessor\"][\"...\"],\n",
    "    \"...\": process_data[\"preprocessor\"][\"...\"],\n",
    "    \"...\": process_data[\"preprocessor\"][\"...\"],\n",
    "    \"...\": process_data[\"postprocessor\"][\"...\"],\n",
    "    \"...\": process_data[\"postprocessor\"][\"...\"],\n",
    "    \"...\": process_data[\"postprocessor\"][\"...\"],\n",
    "    \"overview\": fig,\n",
    "    \"_export_name\": f\"processing_orig_{process_data['sample'].name}\",\n",
    "}\n",
    "\n",
    "exporter = Exporter(export_dir=Path.cwd().parent / \"{{cookiecutter.project_name}}\" / \"results\" / \"test\")\n",
    "export_path = exporter(export_data)"
   ]
  }
 ],
 "metadata": {
  "kernelspec": {
   "display_name": "Python 3.10.8 ('alr')",
   "language": "python",
   "name": "python3"
  },
  "language_info": {
   "codemirror_mode": {
    "name": "ipython",
    "version": 3
   },
   "file_extension": ".py",
   "mimetype": "text/x-python",
   "name": "python",
   "nbconvert_exporter": "python",
   "pygments_lexer": "ipython3",
   "version": "3.10.8"
  },
  "orig_nbformat": 4,
  "vscode": {
   "interpreter": {
    "hash": "1077c0b1683d29734904ce161e184bda5d111d04caf0377238b7813da83240d3"
   }
  }
 },
 "nbformat": 4,
 "nbformat_minor": 2
}
